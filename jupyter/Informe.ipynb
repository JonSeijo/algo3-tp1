{
 "cells": [
  {
   "cell_type": "markdown",
   "metadata": {},
   "source": [
    "## Problema a resolver\n",
    "\n",
    "Aca deberia explicar cual es el problema a resolver, dando diferentes ejemplos y soluciones\n",
    "\n",
    "## Backtracking\n",
    "\n",
    "Puedo usar latex\n",
    "$\\sqrt{test}$\n",
    "\n",
    "\n",
    "Aca deberia esta la explicacion de las ideas que uso para resolver el problema\n",
    "Mostrar con psudocodigo. Hacer estas cosillas en latex\n",
    "\n",
    "Podria diferenciar mostrando primero la solucion naive y luego de toda la muestra, la solucion con poda\n",
    "Podria mostrar cuanto mas eficiente es la solucion con poda\n",
    "\n"
   ]
  },
  {
   "cell_type": "markdown",
   "metadata": {},
   "source": [
    "%%latex\n",
    "\\begin{algorithm}\n",
    "\\caption{My algorithm}\\label{euclid}\n",
    "\\begin{algorithmic}[1]\n",
    "\\Procedure{MyProcedure}{}\n",
    "\\State $\\textit{stringlen} \\gets \\text{length of }\\textit{string}$\n",
    "\\State $i \\gets \\textit{patlen}$\n",
    "\\If {$i > \\textit{stringlen}$} \\Return false\n",
    "\\EndIf\n",
    "\\State $j \\gets \\textit{patlen}$\n",
    "\\BState \\emph{loop}:\n",
    "\\If {$\\textit{string}(i) = \\textit{path}(j)$}\n",
    "\\State $j \\gets j-1$.\n",
    "\\EndIf\n",
    "\\State $i \\gets i+\\max(\\textit{delta}_1(\\textit{string}(i)),\\textit{delta}_2(j))$.\n",
    "\\EndProcedure\n",
    "\n",
    "\\end{algorithmic}\n",
    "\\end{algorithm}"
   ]
  },
  {
   "cell_type": "markdown",
   "metadata": {
    "collapsed": true
   },
   "source": [
    "## Complejidad \n",
    "\n",
    "Aca va la explicacion de cual seria la complejidad del algoritmo presentado, con su correspondiente justificacion y eso.\n",
    "\n",
    "$O(n\\log{}n)$\n",
    "\n",
    "$O(3^{n})$\n"
   ]
  },
  {
   "cell_type": "markdown",
   "metadata": {
    "collapsed": true
   },
   "source": [
    "## Codigo fuente \n",
    "\n",
    "Ejemplo de como seria la insercion de codigo fuente.\n",
    "Hacerlo al final cuando el tp este completo"
   ]
  },
  {
   "cell_type": "markdown",
   "metadata": {},
   "source": [
    "%%latex\n",
    "\\lstset{language=C++,\n",
    "                keywordstyle=\\color{blue},\n",
    "                stringstyle=\\color{red},\n",
    "                commentstyle=\\color{junglegreen},\n",
    "                morecomment=[l][\\color{babyblue}]{\\#}\n",
    "}\n",
    "\\begin{lstlisting}\n",
    "    #include<iostream>\n",
    "    // Aca tiene que estar el codigo fuente\n",
    "    int main() {\n",
    "        std::cout << \"Hello World\\n\";\n",
    "        return 0;\n",
    "    }\n",
    "\\end{lstlisting}"
   ]
  }
 ],
 "metadata": {
  "kernelspec": {
   "display_name": "Python 3",
   "language": "python",
   "name": "python3"
  },
  "language_info": {
   "codemirror_mode": {
    "name": "ipython",
    "version": 3
   },
   "file_extension": ".py",
   "mimetype": "text/x-python",
   "name": "python",
   "nbconvert_exporter": "python",
   "pygments_lexer": "ipython3",
   "version": "3.6.0"
  }
 },
 "nbformat": 4,
 "nbformat_minor": 2
}
