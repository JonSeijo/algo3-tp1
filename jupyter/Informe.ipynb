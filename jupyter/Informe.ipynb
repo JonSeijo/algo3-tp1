{
 "cells": [
  {
   "cell_type": "markdown",
   "metadata": {},
   "source": [
    "## Problema a resolver\n",
    "\n",
    "Aca deberia explicar cual es el problema a resolver, dando diferentes ejemplos y soluciones\n",
    "\n",
    "## Backtracking\n",
    "\n",
    "Puedo usar latex\n",
    "$\\sqrt{test}$\n",
    "\n",
    "\n",
    "Aca deberia esta la explicacion de las ideas que uso para resolver el problema\n",
    "Mostrar con psudocodigo. Hacer estas cosillas en latex\n",
    "\n",
    "Podria diferenciar mostrando primero la solucion naive y luego de toda la muestra, la solucion con poda\n",
    "Podria mostrar cuanto mas eficiente es la solucion con poda\n",
    "\n"
   ]
  },
  {
   "cell_type": "markdown",
   "metadata": {},
   "source": [
    "%%latex\n",
    "\\begin{algorithm}\n",
    "\\caption{My algorithm}\\label{euclid}\n",
    "\\begin{algorithmic}[1]\n",
    "\\Procedure{MyProcedure}{}\n",
    "\\State $\\textit{stringlen} \\gets \\text{length of }\\textit{string}$\n",
    "\\State $i \\gets \\textit{patlen}$\n",
    "\\BState \\emph{top}:\n",
    "\\If {$i > \\textit{stringlen}$} \\Return false\n",
    "\\EndIf\n",
    "\\State $j \\gets \\textit{patlen}$\n",
    "\\BState \\emph{loop}:\n",
    "\\If {$\\textit{string}(i) = \\textit{path}(j)$}\n",
    "\\State $j \\gets j-1$.\n",
    "\\State $i \\gets i-1$.\n",
    "\\State \\textbf{goto} \\emph{loop}.\n",
    "\\State \\textbf{close};\n",
    "\\EndIf\n",
    "\\State $i \\gets i+\\max(\\textit{delta}_1(\\textit{string}(i)),\\textit{delta}_2(j))$.\n",
    "\\State \\textbf{goto} \\emph{top}.\n",
    "\\EndProcedure\n",
    "\\end{algorithmic}\n",
    "\\end{algorithm}"
   ]
  },
  {
   "cell_type": "code",
   "execution_count": null,
   "metadata": {
    "collapsed": true
   },
   "outputs": [],
   "source": []
  },
  {
   "cell_type": "code",
   "execution_count": null,
   "metadata": {
    "collapsed": true
   },
   "outputs": [],
   "source": []
  }
 ],
 "metadata": {
  "kernelspec": {
   "display_name": "Python 3",
   "language": "python",
   "name": "python3"
  },
  "language_info": {
   "codemirror_mode": {
    "name": "ipython",
    "version": 3
   },
   "file_extension": ".py",
   "mimetype": "text/x-python",
   "name": "python",
   "nbconvert_exporter": "python",
   "pygments_lexer": "ipython3",
   "version": "3.6.0"
  }
 },
 "nbformat": 4,
 "nbformat_minor": 2
}
